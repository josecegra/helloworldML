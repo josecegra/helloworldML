{
  "nbformat": 4,
  "nbformat_minor": 0,
  "metadata": {
    "colab": {
      "name": "fraud_credit_card.ipynb",
      "version": "0.3.2",
      "provenance": [],
      "collapsed_sections": [],
      "toc_visible": true
    },
    "kernelspec": {
      "name": "python3",
      "display_name": "Python 3"
    }
  },
  "cells": [
    {
      "cell_type": "code",
      "metadata": {
        "id": "m3IxaeBgXrxk",
        "colab_type": "code",
        "outputId": "09f314af-c8a7-4008-dc5a-864393fd5019",
        "colab": {
          "base_uri": "https://localhost:8080/",
          "height": 224
        }
      },
      "source": [
        "#header for accessing google drive\n",
        "!apt-get install -y -qq software-properties-common python-software-properties module-init-tools\n",
        "!add-apt-repository -y ppa:alessandro-strada/ppa 2>&1 > /dev/null\n",
        "!apt-get update -qq 2>&1 > /dev/null\n",
        "!apt-get -y install -qq google-drive-ocamlfuse fuse\n",
        "from google.colab import auth\n",
        "auth.authenticate_user()\n",
        "from oauth2client.client import GoogleCredentials\n",
        "creds = GoogleCredentials.get_application_default()\n",
        "import getpass\n",
        "!google-drive-ocamlfuse -headless -id={creds.client_id} -secret={creds.client_secret} < /dev/null 2>&1 | grep URL\n",
        "vcode = getpass.getpass()\n",
        "!echo {vcode} | google-drive-ocamlfuse -headless -id={creds.client_id} -secret={creds.client_secret}\n",
        "!mkdir -p drive\n",
        "!google-drive-ocamlfuse drive"
      ],
      "execution_count": 0,
      "outputs": [
        {
          "output_type": "stream",
          "text": [
            "E: Package 'python-software-properties' has no installation candidate\n",
            "Selecting previously unselected package google-drive-ocamlfuse.\n",
            "(Reading database ... 131289 files and directories currently installed.)\n",
            "Preparing to unpack .../google-drive-ocamlfuse_0.7.6-0ubuntu1~ubuntu18.04.1_amd64.deb ...\n",
            "Unpacking google-drive-ocamlfuse (0.7.6-0ubuntu1~ubuntu18.04.1) ...\n",
            "Setting up google-drive-ocamlfuse (0.7.6-0ubuntu1~ubuntu18.04.1) ...\n",
            "Processing triggers for man-db (2.8.3-2ubuntu0.1) ...\n",
            "Please, open the following URL in a web browser: https://accounts.google.com/o/oauth2/auth?client_id=32555940559.apps.googleusercontent.com&redirect_uri=urn%3Aietf%3Awg%3Aoauth%3A2.0%3Aoob&scope=https%3A%2F%2Fwww.googleapis.com%2Fauth%2Fdrive&response_type=code&access_type=offline&approval_prompt=force\n",
            "··········\n",
            "Please, open the following URL in a web browser: https://accounts.google.com/o/oauth2/auth?client_id=32555940559.apps.googleusercontent.com&redirect_uri=urn%3Aietf%3Awg%3Aoauth%3A2.0%3Aoob&scope=https%3A%2F%2Fwww.googleapis.com%2Fauth%2Fdrive&response_type=code&access_type=offline&approval_prompt=force\n",
            "Please enter the verification code: Access token retrieved correctly.\n"
          ],
          "name": "stdout"
        }
      ]
    },
    {
      "cell_type": "markdown",
      "metadata": {
        "id": "YanN3OPraMSI",
        "colab_type": "text"
      },
      "source": [
        "# Identifying fraudulent credit card transactions"
      ]
    },
    {
      "cell_type": "markdown",
      "metadata": {
        "id": "qD9l83_ZaX8A",
        "colab_type": "text"
      },
      "source": [
        "The goal of this project is to build a classifier able to identify fraudulent credit card transactions. We will use the dataset from https://www.kaggle.com/mlg-ulb/creditcardfraud. Each instance of this dataset represents a credit card transaction, containing the features of the transaction and the label (being either fraudulent or normal). We will see that this dataset is quite imbalanced, containing very little instances of fraudulent transactions. Working with the raw imbalanced data would severely compromise the performance of the classification models, and therefore oversampling will be applied.\n",
        "\n",
        "Three models will be applied to the dataset, namely decision trees, logistic regression and random forests. Moreover,  crossvalidation will be performed for an accurate estimate of the generalization error. Finally we will search for the best hyperparameters for the best performing model."
      ]
    },
    {
      "cell_type": "markdown",
      "metadata": {
        "id": "KIRPX-IdeqvW",
        "colab_type": "text"
      },
      "source": [
        "## Header"
      ]
    },
    {
      "cell_type": "code",
      "metadata": {
        "id": "8X9kAD-2YJI1",
        "colab_type": "code",
        "colab": {}
      },
      "source": [
        "import numpy as np\n",
        "import pandas as pd\n",
        "\n",
        "import seaborn as sn\n",
        "import matplotlib.pyplot as plt\n",
        "\n",
        "from sklearn import preprocessing\n",
        "from sklearn.tree import DecisionTreeClassifier\n",
        "from sklearn.linear_model import LogisticRegression\n",
        "from sklearn.ensemble import RandomForestClassifier\n",
        "from sklearn.model_selection import StratifiedKFold\n",
        "from sklearn.model_selection import ParameterSampler, ParameterGrid\n",
        "from sklearn.metrics import accuracy_score,recall_score, precision_score, confusion_matrix\n",
        "\n",
        "from imblearn.over_sampling import SMOTE\n",
        "\n",
        "!pip install texttable\n",
        "from texttable import Texttable\n"
      ],
      "execution_count": 0,
      "outputs": []
    },
    {
      "cell_type": "markdown",
      "metadata": {
        "id": "e8DJ5y0T6Fgu",
        "colab_type": "text"
      },
      "source": [
        "## **Loading and preparing data**\n",
        "\n",
        "We will load the dataset and explore the number of instances of each class:\n",
        "\n"
      ]
    },
    {
      "cell_type": "code",
      "metadata": {
        "id": "Y3KHGZijYL36",
        "colab_type": "code",
        "outputId": "385a7bdb-53f8-4127-ca78-6cc4ad710f35",
        "colab": {
          "base_uri": "https://localhost:8080/",
          "height": 51
        }
      },
      "source": [
        "path = '/content/drive/fraud_credit_card/creditcard.csv'\n",
        "file = pd.read_csv(path)\n",
        "\n",
        "no_fraud = file.loc[file['Class']==0]\n",
        "fraud = file.loc[file['Class']==1]\n",
        "data = pd.concat((no_fraud,fraud),axis=0)\n",
        "\n",
        "print('No fraud: ',no_fraud.shape)\n",
        "print('Fraud: ',fraud.shape)\n"
      ],
      "execution_count": 0,
      "outputs": [
        {
          "output_type": "stream",
          "text": [
            "No fraud:  (284315, 31)\n",
            "Fraud:  (492, 31)\n"
          ],
          "name": "stdout"
        }
      ]
    },
    {
      "cell_type": "markdown",
      "metadata": {
        "id": "xBcjGr93cZq7",
        "colab_type": "text"
      },
      "source": [
        "It is clear that the fraudulent card transactions contitute only a small percentage of the dataset. Therefore, it is necessary to balance the data used for training, and this will be done by applying oversampling during crossvalidation.\n",
        "\n",
        "The dataset will be divided into features and targets:"
      ]
    },
    {
      "cell_type": "code",
      "metadata": {
        "id": "_BgVzxhUcBRA",
        "colab_type": "code",
        "colab": {}
      },
      "source": [
        "#separating features from targets\n",
        "feat_cols = ['Time', 'V1', 'V2', 'V3', 'V4', 'V5', 'V6', 'V7', 'V8', 'V9', 'V10',\n",
        "       'V11', 'V12', 'V13', 'V14', 'V15', 'V16', 'V17', 'V18', 'V19', 'V20',\n",
        "       'V21', 'V22', 'V23', 'V24', 'V25', 'V26', 'V27', 'V28', 'Amount']\n",
        "\n",
        "X = data[feat_cols].values\n",
        "y = data['Class'].values"
      ],
      "execution_count": 0,
      "outputs": []
    },
    {
      "cell_type": "markdown",
      "metadata": {
        "id": "0JgftHj-6Ixm",
        "colab_type": "text"
      },
      "source": [
        "## **Model evaluation with crossvalidation**"
      ]
    },
    {
      "cell_type": "markdown",
      "metadata": {
        "id": "sJCWEuTwcnzb",
        "colab_type": "text"
      },
      "source": [
        "In order to evaluate the generalization error of the models used the data needs to be splitted into training and testing data. Since an arbitrary train-test split might not yield an accurate estimate of the generalization error, several train-test splits will be used. \n",
        "\n",
        "Crossvalidation consists in dividing the dataset into k folds containing the same class ratio as the original data. The model is trained on k-1 folds and the remaining data is used for testing. This procedure is repeated until each fold is used for testing once. \n",
        "\n",
        "Of course the training data will still be imbalanced. Both undersampling and oversampling could be applied. In this case oversampling using [SMOTE ](https://imbalanced-learn.readthedocs.io/en/stable/over_sampling.html?highlight=SMOTE) was chosen due to the small amount of instaces of the minority class. SMOTE will be applied to the training data for each crossvalidation iteration. \n",
        "\n",
        "Although decision trees and random forests don't mind unnormalized data logistic regression does, so the data will be scaled between 0 and 1. In order to avoid any data leakage the scaler will be fit on the training data and applied to the test data. \n",
        "\n",
        "For each iteration of crossvalidation the classifier will be trained on the train data and evaluated on the test data, and the metrics are stored. After crossvalidation the average scores are returned.\n",
        "\n",
        "\n"
      ]
    },
    {
      "cell_type": "code",
      "metadata": {
        "id": "x2u_C2wTZ594",
        "colab_type": "code",
        "colab": {}
      },
      "source": [
        "def cross_validation(clf,n_splits=3):\n",
        "\n",
        "  #cv splitter\n",
        "  skf = StratifiedKFold(n_splits=n_splits,shuffle=True)\n",
        "  \n",
        "  acc_tr,acc_ts = [],[]\n",
        "  recall_tr,recall_ts = [],[]\n",
        "  precision_tr,precision_ts = [],[]\n",
        "  cm_ts = []\n",
        "\n",
        "  for train_index,test_index in skf.split(X, y):\n",
        "    \n",
        "    X_train, X_test = X[train_index], X[test_index]\n",
        "    y_train, y_test = y[train_index], y[test_index]\n",
        "    \n",
        "    #oversampling\n",
        "    X_train,y_train = SMOTE().fit_resample(X_train, y_train)\n",
        "    \n",
        "    #scaling\n",
        "    min_max_scaler = preprocessing.MinMaxScaler()\n",
        "    X_train = min_max_scaler.fit_transform(X_train)\n",
        "    X_test = min_max_scaler.transform(X_test)\n",
        "    \n",
        "    #fit\n",
        "    clf.fit(X_train,y_train)\n",
        "    \n",
        "    #metrics train\n",
        "    acc_tr.append(accuracy_score(y_train,clf.predict(X_train)))\n",
        "    recall_tr.append(recall_score(y_train,clf.predict(X_train)))\n",
        "    precision_tr.append(precision_score(y_train,clf.predict(X_train)))\n",
        "    #metrics test\n",
        "    acc_ts.append(accuracy_score(y_test,clf.predict(X_test)))\n",
        "    recall_ts.append(recall_score(y_test,clf.predict(X_test)))\n",
        "    precision_ts.append(precision_score(y_test,clf.predict(X_test)))\n",
        "    cm_ts.append(confusion_matrix(y_test,clf.predict(X_test)))\n",
        "    \n",
        "  \n",
        "  acc_tr = np.mean(acc_tr)\n",
        "  recall_tr = np.mean(recall_tr)\n",
        "  precision_tr = np.mean(precision_tr)\n",
        "  acc_ts = np.mean(acc_ts)\n",
        "  recall_ts = np.mean(recall_ts)\n",
        "  precision_ts = np.mean(precision_ts)\n",
        "  cm = sum(cm_ts)/n_splits\n",
        "  \n",
        "  metrics = {'acc_tr':acc_tr,'acc_ts':acc_ts,\n",
        "             'recall_tr':recall_tr,'recall_ts':recall_ts,\n",
        "             'precision_tr':precision_tr,'precision_ts':precision_ts,\n",
        "             'cm':cm}\n",
        "  \n",
        "  return metrics\n",
        "\n",
        "\n",
        "def plot_confusion_matrix(conf_matrix):\n",
        "  df_cm = pd.DataFrame(conf_matrix, index = ['True Normal','True Fraud'],\n",
        "                    columns = ['Pred Normal','Pred Fraud'])\n",
        "\n",
        "  sn.heatmap(df_cm, annot=True)\n",
        "  return\n",
        "\n",
        "\n",
        "def print_metrics(metrics):\n",
        "  t = Texttable()\n",
        "  t.add_rows([[' ', 'Train','Test'], \n",
        "              ['Accuracy', metrics['acc_tr'], metrics['acc_ts']], \n",
        "              ['Precision', metrics['precision_tr'], metrics['precision_ts']],\n",
        "              ['Recall', metrics['recall_tr'], metrics['recall_ts']]])\n",
        "  print(t.draw())\n",
        "  return\n",
        "  \n"
      ],
      "execution_count": 0,
      "outputs": []
    },
    {
      "cell_type": "markdown",
      "metadata": {
        "id": "7hqy--aPfGKN",
        "colab_type": "text"
      },
      "source": [
        "### Decision tree\n",
        "\n",
        "The first model will be a decision tree classifier with default parameters, and we will apply crossvalidation to three folds:"
      ]
    },
    {
      "cell_type": "code",
      "metadata": {
        "id": "jngu5u7swGQv",
        "colab_type": "code",
        "outputId": "6b902ba6-8e3b-4adf-dd4f-ea1d0b1189f3",
        "colab": {
          "base_uri": "https://localhost:8080/",
          "height": 170
        }
      },
      "source": [
        "metrics = cross_validation(DecisionTreeClassifier(),3)\n",
        "print_metrics(metrics)"
      ],
      "execution_count": 0,
      "outputs": [
        {
          "output_type": "stream",
          "text": [
            "+-----------+-------+-------+\n",
            "|           | Train | Test  |\n",
            "+===========+=======+=======+\n",
            "| Accuracy  | 1     | 0.998 |\n",
            "+-----------+-------+-------+\n",
            "| Precision | 1     | 0.429 |\n",
            "+-----------+-------+-------+\n",
            "| Recall    | 1     | 0.764 |\n",
            "+-----------+-------+-------+\n"
          ],
          "name": "stdout"
        }
      ]
    },
    {
      "cell_type": "markdown",
      "metadata": {
        "id": "_cU-BdTc6hmw",
        "colab_type": "text"
      },
      "source": [
        "### Logistic regression\n",
        "\n",
        "We will also apply logistic regression due to the simplicity and relatively good performance of this technique in some cases. The default number of maximum iterations fails to converged, so this parameter was increased:"
      ]
    },
    {
      "cell_type": "code",
      "metadata": {
        "id": "o-cxh2TOmbLT",
        "colab_type": "code",
        "outputId": "4f3d8ade-30b2-432b-a097-19fd19df4b14",
        "colab": {
          "base_uri": "https://localhost:8080/",
          "height": 170
        }
      },
      "source": [
        "metrics = cross_validation(LogisticRegression(solver='lbfgs',max_iter=500),3)\n",
        "print_metrics(metrics)"
      ],
      "execution_count": 0,
      "outputs": [
        {
          "output_type": "stream",
          "text": [
            "+-----------+-------+-------+\n",
            "|           | Train | Test  |\n",
            "+===========+=======+=======+\n",
            "| Accuracy  | 0.976 | 0.990 |\n",
            "+-----------+-------+-------+\n",
            "| Precision | 0.990 | 0.140 |\n",
            "+-----------+-------+-------+\n",
            "| Recall    | 0.961 | 0.886 |\n",
            "+-----------+-------+-------+\n"
          ],
          "name": "stdout"
        }
      ]
    },
    {
      "cell_type": "markdown",
      "metadata": {
        "id": "_NQgOHhPhD3b",
        "colab_type": "text"
      },
      "source": [
        "### Random Forest\n",
        "\n",
        "Finally we will apply a random forest classifier, which is expected to work better than a simple decision tree:"
      ]
    },
    {
      "cell_type": "code",
      "metadata": {
        "id": "IkM31_6EmuG3",
        "colab_type": "code",
        "outputId": "3fb02f7f-0587-427d-ccb0-861927c17838",
        "colab": {
          "base_uri": "https://localhost:8080/",
          "height": 170
        }
      },
      "source": [
        "metrics  = cross_validation(RandomForestClassifier(n_estimators=10),3)\n",
        "print_metrics(metrics)"
      ],
      "execution_count": 0,
      "outputs": [
        {
          "output_type": "stream",
          "text": [
            "+-----------+-------+-------+\n",
            "|           | Train | Test  |\n",
            "+===========+=======+=======+\n",
            "| Accuracy  | 1.000 | 0.999 |\n",
            "+-----------+-------+-------+\n",
            "| Precision | 1.000 | 0.882 |\n",
            "+-----------+-------+-------+\n",
            "| Recall    | 1     | 0.815 |\n",
            "+-----------+-------+-------+\n"
          ],
          "name": "stdout"
        }
      ]
    },
    {
      "cell_type": "markdown",
      "metadata": {
        "id": "R9RBJiYDhHk2",
        "colab_type": "text"
      },
      "source": [
        "The random forest model performs best, so this will be the model considered in the rest of this project.\n",
        "\n",
        "We examine the confusion matrix to get an idea about the rate of false positives and negatives:"
      ]
    },
    {
      "cell_type": "code",
      "metadata": {
        "id": "1SPvvwWFY6xD",
        "colab_type": "code",
        "outputId": "a68cf466-b24c-4680-d1b4-1a9b1d4caa68",
        "colab": {
          "base_uri": "https://localhost:8080/",
          "height": 269
        }
      },
      "source": [
        "plot_confusion_matrix(metrics['cm'])"
      ],
      "execution_count": 0,
      "outputs": [
        {
          "output_type": "display_data",
          "data": {
            "image/png": "[encoded data removed]",
            "text/plain": [
              "<Figure size 432x288 with 2 Axes>"
            ]
          },
          "metadata": {
            "tags": []
          }
        }
      ]
    },
    {
      "cell_type": "markdown",
      "metadata": {
        "id": "yrxxUln2Uh1w",
        "colab_type": "text"
      },
      "source": [
        "The imbalance of the data is clearly visible in the diagonal terms, being the number of fraudulent transactions orders of magnitude smaller than the number of normal transactions. Moreover, the number of false positives and negatives in the off-diagonal elements is way smaller than the correctly classified transactions, something expected due to the resulting values of precision and recall. "
      ]
    },
    {
      "cell_type": "markdown",
      "metadata": {
        "id": "lQo2WV6B7H_8",
        "colab_type": "text"
      },
      "source": [
        "## **Hyperparameter tuning of random forests**"
      ]
    },
    {
      "cell_type": "markdown",
      "metadata": {
        "id": "1NQrD8k701n8",
        "colab_type": "text"
      },
      "source": [
        "Although the random forest model of the previous section performs well with default hyperparameters, it is expected that a different choice of hyperparameters might yield better performance.\n",
        "\n",
        "It is of interest to see how varying each of the parameters of the classifier affects to the metrics considered. Since the dataset is very imbalanced the accuracy is not a good metric, so only recall and precision will be taken into account. \n",
        "\n",
        "The parameters considered are the number of estimators (decision trees), the depth of the trees, the minimum number of samples per node and the minimum number of samples for split. Each of these parameters will be explored individually by fixing the rest and varying the parameter of interest. \n",
        "\n",
        "For each of these experiments a parameter grid will be defined and the classifier will be trained for each of the configurations with 3-fold crossvalidation. This will give us an accurate estimate of the generalization error. Finally the validation curve for both accuracy and recall will be plotted:\n",
        "\n"
      ]
    },
    {
      "cell_type": "code",
      "metadata": {
        "id": "7pbupo1ygDh3",
        "colab_type": "code",
        "colab": {}
      },
      "source": [
        "def grid_search(grid,verbose=0):\n",
        "\n",
        "  acc_tr,acc_ts = [],[]\n",
        "  recall_tr,recall_ts = [],[]\n",
        "  precision_tr,precision_ts = [],[]\n",
        "  cm_ts = []\n",
        "\n",
        "  for params in grid:\n",
        "\n",
        "    clf = RandomForestClassifier(n_estimators = params['n_estimators'],\n",
        "                                 max_depth = params['max_depth'],\n",
        "                                 min_samples_split=params['min_samples_split'],\n",
        "                                 min_samples_leaf=params['min_samples_leaf'])\n",
        "\n",
        "    metrics = cross_validation(clf,3)\n",
        "    \n",
        "    acc_tr.append(metrics['acc_tr'])\n",
        "    recall_tr.append(metrics['recall_tr'])\n",
        "    precision_tr.append(metrics['precision_tr'])\n",
        "\n",
        "    acc_ts.append(metrics['acc_ts'])\n",
        "    recall_ts.append(metrics['recall_ts'])\n",
        "    precision_ts.append(metrics['precision_ts'])\n",
        "    cm_ts.append(metrics['cm'])\n",
        "    \n",
        "    if verbose == 1:\n",
        "      print('Params: ',params)\n",
        "      print('Accuracy: ',metrics['acc_ts'])\n",
        "      print('Recall: ',metrics['recall_ts'])\n",
        "      print('Precision: ',metrics['precision_ts'])\n",
        "      print('\\n')\n",
        "  \n",
        "    \n",
        "  metrics = {'acc_tr':acc_tr,'acc_ts':acc_ts,\n",
        "           'recall_tr':recall_tr,'recall_ts':recall_ts,\n",
        "           'precision_tr':precision_tr,'precision_ts':precision_ts,\n",
        "           'cm':cm_ts}\n",
        "\n",
        "  return metrics\n",
        "\n",
        "\n",
        "\n",
        "\n",
        "def val_curve(p_name,grid,metrics): \n",
        "  \n",
        "  param = []\n",
        "  for params in grid:\n",
        "    param.append(params[p_name])\n",
        "    \n",
        "  #recall\n",
        "  fig_rec,ax_rec = plt.subplots()\n",
        "  ax_rec.plot(param,metrics['recall_tr'],label='Train',color='b')\n",
        "  ax_rec.plot(param,metrics['recall_ts'],label='Test',color='r')\n",
        "  ax_rec.set_xlabel(p_name)\n",
        "  ax_rec.set_ylabel('Recall')\n",
        "  ax_rec.legend()\n",
        "  \n",
        "  #precision\n",
        "  fig_pre,ax_pre = plt.subplots()\n",
        "  ax_pre.plot(param,metrics['precision_tr'],label='Train',color='b')\n",
        "  ax_pre.plot(param,metrics['precision_ts'],label='Test',color='r')\n",
        "  ax_pre.set_xlabel(p_name)\n",
        "  ax_pre.set_ylabel('Precision')\n",
        "  ax_pre.legend()\n",
        "\n",
        "  return"
      ],
      "execution_count": 0,
      "outputs": []
    },
    {
      "cell_type": "markdown",
      "metadata": {
        "id": "EcViWjWJkmSD",
        "colab_type": "text"
      },
      "source": [
        "### **Number of estimators**"
      ]
    },
    {
      "cell_type": "code",
      "metadata": {
        "id": "dLy27Q2gkmbq",
        "colab_type": "code",
        "outputId": "b29df3a4-23f9-499a-9d85-09a8079decd7",
        "colab": {
          "base_uri": "https://localhost:8080/",
          "height": 551
        }
      },
      "source": [
        "param_grid = ParameterGrid({'n_estimators':[1,5,10,50,100],\n",
        "              'max_depth':[1],\n",
        "              'min_samples_split' : [2],\n",
        "              'min_samples_leaf':[1]})\n",
        "\n",
        "metrics = grid_search(param_grid)\n",
        "val_curve('n_estimators',param_grid,metrics) "
      ],
      "execution_count": 0,
      "outputs": [
        {
          "output_type": "display_data",
          "data": {
            "image/png": "[encoded data removed]",
            "text/plain": [
              "<Figure size 432x288 with 1 Axes>"
            ]
          },
          "metadata": {
            "tags": []
          }
        },
        {
          "output_type": "display_data",
          "data": {
            "image/png": "[encoded data removed]",
            "text/plain": [
              "<Figure size 432x288 with 1 Axes>"
            ]
          },
          "metadata": {
            "tags": []
          }
        }
      ]
    },
    {
      "cell_type": "markdown",
      "metadata": {
        "id": "hBmeZGH6Xs_0",
        "colab_type": "text"
      },
      "source": [
        "We observe that both precision and accuracy increase with the number of estimators as expected. From now on the number of estimators considered will be 100."
      ]
    },
    {
      "cell_type": "markdown",
      "metadata": {
        "id": "4a5OLjyek3el",
        "colab_type": "text"
      },
      "source": [
        "### **Max depth**"
      ]
    },
    {
      "cell_type": "code",
      "metadata": {
        "id": "-f2PBrKzk5Sw",
        "colab_type": "code",
        "outputId": "b203fa3b-3e02-4d11-a915-bf8762ab9a2c",
        "colab": {
          "base_uri": "https://localhost:8080/",
          "height": 551
        }
      },
      "source": [
        "param_grid = ParameterGrid({'n_estimators':[100],\n",
        "              'max_depth':[1,5,10,50,100,200,300],\n",
        "              'min_samples_split' : [2],\n",
        "              'min_samples_leaf':[1]})\n",
        "\n",
        "metrics = grid_search(param_grid)\n",
        "val_curve('max_depth',param_grid,metrics) "
      ],
      "execution_count": 0,
      "outputs": [
        {
          "output_type": "display_data",
          "data": {
            "image/png": "[encoded data removed]",
            "text/plain": [
              "<Figure size 432x288 with 1 Axes>"
            ]
          },
          "metadata": {
            "tags": []
          }
        },
        {
          "output_type": "display_data",
          "data": {
            "image/png": "[encoded data removed]",
            "text/plain": [
              "<Figure size 432x288 with 1 Axes>"
            ]
          },
          "metadata": {
            "tags": []
          }
        }
      ]
    },
    {
      "cell_type": "markdown",
      "metadata": {
        "id": "GkTHLYhKYXP5",
        "colab_type": "text"
      },
      "source": [
        "From the validation curves above it is clear that a maximum depth of 50 is reasonable, and this will be the value for the rest of the project."
      ]
    },
    {
      "cell_type": "markdown",
      "metadata": {
        "id": "UKt6wKLwkgLb",
        "colab_type": "text"
      },
      "source": [
        "### **Min samples split**"
      ]
    },
    {
      "cell_type": "code",
      "metadata": {
        "id": "jv3TtE7p07Qe",
        "colab_type": "code",
        "outputId": "8500c123-644f-4b09-eb5f-d7f4baaad61d",
        "colab": {
          "base_uri": "https://localhost:8080/",
          "height": 551
        }
      },
      "source": [
        "param_grid = ParameterGrid({'n_estimators':[100],\n",
        "              'max_depth':[50],\n",
        "              'min_samples_split' : [1.0,10,20,50,100],\n",
        "              'min_samples_leaf':[1]})\n",
        "\n",
        "metrics = grid_search(param_grid)\n",
        "val_curve('min_samples_split',param_grid,metrics) "
      ],
      "execution_count": 0,
      "outputs": [
        {
          "output_type": "display_data",
          "data": {
            "image/png": "[encoded data removed]",
            "text/plain": [
              "<Figure size 432x288 with 1 Axes>"
            ]
          },
          "metadata": {
            "tags": []
          }
        },
        {
          "output_type": "display_data",
          "data": {
            "image/png": "[encoded data removed]",
            "text/plain": [
              "<Figure size 432x288 with 1 Axes>"
            ]
          },
          "metadata": {
            "tags": []
          }
        }
      ]
    },
    {
      "cell_type": "markdown",
      "metadata": {
        "id": "N3nYL4aylJjC",
        "colab_type": "text"
      },
      "source": [
        "### **Min samples leaf**"
      ]
    },
    {
      "cell_type": "code",
      "metadata": {
        "id": "0hhZx0AdRYSr",
        "colab_type": "code",
        "outputId": "84a1e813-0df3-4e61-d195-abcb7114e574",
        "colab": {
          "base_uri": "https://localhost:8080/",
          "height": 551
        }
      },
      "source": [
        "param_grid = ParameterGrid({'n_estimators':[100],\n",
        "              'max_depth':[50],\n",
        "              'min_samples_split' : [25],\n",
        "              'min_samples_leaf':[0.1,1,10,20,50,100]})\n",
        "\n",
        "metrics = grid_search(param_grid)\n",
        "val_curve('min_samples_leaf',param_grid,metrics) "
      ],
      "execution_count": 0,
      "outputs": [
        {
          "output_type": "display_data",
          "data": {
            "image/png": "[encoded data removed]",
            "text/plain": [
              "<Figure size 432x288 with 1 Axes>"
            ]
          },
          "metadata": {
            "tags": []
          }
        },
        {
          "output_type": "display_data",
          "data": {
            "image/png": "[encoded data removed]",
            "text/plain": [
              "<Figure size 432x288 with 1 Axes>"
            ]
          },
          "metadata": {
            "tags": []
          }
        }
      ]
    },
    {
      "cell_type": "markdown",
      "metadata": {
        "id": "_p1jlSe078NL",
        "colab_type": "text"
      },
      "source": [
        "### **Random Search**\n",
        "\n",
        "\n",
        "The previous validation curves have been obtained by varying only one parameter and keeping the rest fixed. Therefore, it might be that we missed a combination of parameters that yields better results.\n",
        "\n",
        "To perform a more exhaustive hyperparameter search we will construct a parameter grid containing all possible combinations of hyperparameters. Next, we will sample uniformly from the parameter grid and we evaluate the resulting model. \n",
        "\n",
        "This is computationally less expensive than grid search and it provides with similar results (see reference [here](http://www.jmlr.org/papers/volume13/bergstra12a/bergstra12a.pdf))\n",
        "\n"
      ]
    },
    {
      "cell_type": "code",
      "metadata": {
        "id": "knZ0cmp37-Wt",
        "colab_type": "code",
        "outputId": "92dcec9a-0a42-425c-9a66-280247e41c2c",
        "colab": {
          "base_uri": "https://localhost:8080/",
          "height": 629
        }
      },
      "source": [
        "param_grid = {'n_estimators':[50,100,150],\n",
        "              'max_depth':[50,100,150],\n",
        "              'min_samples_split' : [10,20,50],\n",
        "              'min_samples_leaf':[0.1,1,10,20]}\n",
        "\n",
        "param_grid = ParameterSampler(param_grid,n_iter = 15)\n",
        "metrics = grid_search(param_grid,verbose=1)"
      ],
      "execution_count": 0,
      "outputs": [
        {
          "output_type": "stream",
          "text": [
            "Params:  {'n_estimators': 50, 'min_samples_split': 10, 'min_samples_leaf': 1, 'max_depth': 50}\n",
            "Accuracy:  0.999494394153685\n",
            "Recall:  0.8252032520325203\n",
            "Precision:  0.8767228939642733\n",
            "\n",
            "\n",
            "Params:  {'n_estimators': 150, 'min_samples_split': 20, 'min_samples_leaf': 10, 'max_depth': 150}\n",
            "Accuracy:  0.9993539483647037\n",
            "Recall:  0.8394308943089431\n",
            "Precision:  0.7996865199648336\n",
            "\n",
            "\n",
            "Params:  {'n_estimators': 150, 'min_samples_split': 50, 'min_samples_leaf': 0.1, 'max_depth': 150}\n",
            "Accuracy:  0.9948702052489683\n",
            "Recall:  0.8455284552845529\n",
            "Precision:  0.23651783715384242\n",
            "\n",
            "\n",
            "Params:  {'n_estimators': 100, 'min_samples_split': 20, 'min_samples_leaf': 20, 'max_depth': 150}\n",
            "Accuracy:  0.9991678573836325\n",
            "Recall:  0.8536585365853658\n",
            "Precision:  0.718114400705366\n",
            "\n",
            "\n",
            "Params:  {'n_estimators': 150, 'min_samples_split': 50, 'min_samples_leaf': 10, 'max_depth': 50}\n",
            "Accuracy:  0.9993258594510062\n",
            "Recall:  0.8394308943089431\n",
            "Precision:  0.7872563967458529\n",
            "\n",
            "\n",
            "Params:  {'n_estimators': 150, 'min_samples_split': 10, 'min_samples_leaf': 0.1, 'max_depth': 50}\n",
            "Accuracy:  0.9946595311287535\n",
            "Recall:  0.8455284552845529\n",
            "Precision:  0.24325196499985688\n",
            "\n",
            "\n"
          ],
          "name": "stdout"
        }
      ]
    }
  ]
}